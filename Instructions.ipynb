{
 "cells": [
  {
   "cell_type": "markdown",
   "metadata": {},
   "source": [
    "# Running Tensorflow Models on Android\n",
    "\n",
    "### What is this?\n",
    "\n",
    "This is a handwritten character image (MNIST) classifier that can run on any android device. The app stores a set of images (0-9) that we can cycle through and classify in order. It uses a pre-trained model to perform inference on the device. This idea can be applied to any images, both by using the camera and by pulling from the Web. We're using preloaded images so we can run the app in a simulator (no need for the device since it doesn't require a camera).\n",
    "\n",
    "![alt text](https://jalammar.github.io/images/android-tensorflow-app-structure_2.png \"Logo Title Text 1\")\n",
    "\n",
    "### Video Demo\n",
    "\n",
    "https://www.youtube.com/watch?v=gahi0Hjgokw\n",
    "\n",
    "### Other examples of Tensorflow on Android \n",
    "\n",
    "1. Image classifier https://github.com/MindorksOpenSource/AndroidTensorFlowMachineLearningExample Really well documented\n",
    "2. Another classifier https://github.com/alseambusher/Paideia combined with Wikipedia APi to list detailed information about the object\n",
    "3. Guess a sketch https://github.com/nuaimat/GuessSketch \n",
    "\n",
    "### Installation Steps\n",
    "\n",
    "If you already have Android Studio, skip to Step 5!\n",
    "\n",
    "#### Step 1 Download Android studio\n",
    "\n",
    "https://developer.android.com/studio/index.html\n",
    "\n",
    "#### Step 2 Download Android SDK\n",
    "\n",
    "`$ wget https://dl.google.com/android/android-sdk_r24.4.1-linux.tgz\n",
    "$ tar xvzf android-sdk_r24.4.1-linux.tgz -C ~/tensorflow`\n",
    "\n",
    "#### Step 3 Download SDK Build Tools\n",
    "\n",
    "`$ cd ~/tensorflow/android-sdk-linux\n",
    "$ tools/android update sdk --no-ui`\n",
    "\n",
    "#### Step 4 Download Android NDK\n",
    "\n",
    "`$ wget https://dl.google.com/android/repository/android-ndk-r12b-linux-x86_64.zip\n",
    "$ unzip android-ndk-r12b-linux-x86_64.zip -d ~/tensorflow`\n",
    "\n",
    "Set correct SDK and NDK versions in your workspace file\n",
    "\n",
    "#### Step 5 Train Model in Python on your desktop or a server \n",
    "\n",
    "2 included options \n",
    "\n",
    "`tensorflow_model/mnist_convnet_keras.py\n",
    "tensorflow_model/mnist_convnet.py `\n",
    "\n",
    "#### Step 6 Download the latest Tensorflow Android release package (AAR)\n",
    "\n",
    "AAR (Android Archive) files are a convenient way to distribute packages– mainly libraries– for use with Android Studio and Gradle. Adding one of these files to your app requires creating some metadata files and updating your app’s gradle build files. Fortunately, Android Studio can handle all of this for us.\n",
    "\n",
    "http://docs.onemobilesdk.aol.com/android-ad-sdk/adding-aar-files.html\n",
    "\n",
    "### Step 7 Compile the code and run it on a simulator (or device if you have one)! \n"
   ]
  },
  {
   "cell_type": "markdown",
   "metadata": {
    "collapsed": true
   },
   "source": [
    "# Steps in this tutorial\n",
    "\n",
    "1. Overview of the Python file for training a CNN (how is the model saved?)\n",
    "2. Overview of MainActivity, drawModel, drawRenderer, drawView (draw specific code)\n",
    "3. Overview of TensorflowClassification, Classifier, Classification (ML code)\n",
    "\n",
    "\n"
   ]
  },
  {
   "cell_type": "code",
   "execution_count": null,
   "metadata": {
    "collapsed": true
   },
   "outputs": [],
   "source": []
  }
 ],
 "metadata": {
  "kernelspec": {
   "display_name": "Python 3",
   "language": "python",
   "name": "python3"
  },
  "language_info": {
   "codemirror_mode": {
    "name": "ipython",
    "version": 3
   },
   "file_extension": ".py",
   "mimetype": "text/x-python",
   "name": "python",
   "nbconvert_exporter": "python",
   "pygments_lexer": "ipython3",
   "version": "3.6.0"
  }
 },
 "nbformat": 4,
 "nbformat_minor": 2
}
